{
 "cells": [
  {
   "cell_type": "code",
   "execution_count": 28,
   "id": "b49aa77c",
   "metadata": {},
   "outputs": [],
   "source": [
    "def readfile(x):\n",
    "    with open(x, 'r', encoding='utf-8') as file:\n",
    "        data = file.readlines()\n",
    "    print(\"This is original string::::::\",data[0]) \n",
    "    x=data[0].split(\" \")\n",
    "    x[3]=\"screening\"\n",
    "    new_string=\" \".join(x)\n",
    "    with open('example.txt', 'w', encoding='utf-8') as file:\n",
    "        file.writelines(new_string)      "
   ]
  },
  {
   "cell_type": "markdown",
   "id": "12c0d8ea",
   "metadata": {},
   "source": [
    "Demonstrate use of abstract class, multiple inheritance and decorator in\n",
    "python using examples."
   ]
  },
  {
   "cell_type": "code",
   "execution_count": 30,
   "id": "d8195065",
   "metadata": {},
   "outputs": [
    {
     "name": "stdout",
     "output_type": "stream",
     "text": [
      "I have 3 sides\n",
      "I have 4 sides\n",
      "I have 5 sides\n",
      "I have 6 sides\n"
     ]
    }
   ],
   "source": [
    "#Abstarct class\n",
    "\n",
    "# Abstraction is the process of gathering necessary data and hiding unnecessary data.\n",
    "'''some time we dont know about implementation, still we can declare a method.such methods are called abstratc methods \n",
    "i.e abstract method has only decleration but not implementation'''\n",
    "from abc import ABC, abstractmethod\n",
    " \n",
    "class Polygon(ABC):\n",
    " \n",
    "    @abstractmethod\n",
    "    def noofsides(self):\n",
    "        pass\n",
    " \n",
    "class Triangle(Polygon):\n",
    " \n",
    "    # overriding abstract method\n",
    "    def noofsides(self):\n",
    "        print(\"I have 3 sides\")\n",
    " \n",
    "class Pentagon(Polygon):\n",
    " \n",
    "    # overriding abstract method\n",
    "    def noofsides(self):\n",
    "        print(\"I have 5 sides\")\n",
    " \n",
    "class Hexagon(Polygon):\n",
    " \n",
    "    # overriding abstract method\n",
    "    def noofsides(self):\n",
    "        print(\"I have 6 sides\")\n",
    " \n",
    "class Quadrilateral(Polygon):\n",
    " \n",
    "    # overriding abstract method\n",
    "    def noofsides(self):\n",
    "        print(\"I have 4 sides\")\n",
    " \n",
    "# Driver code\n",
    "R = Triangle()\n",
    "R.noofsides()\n",
    " \n",
    "K = Quadrilateral()\n",
    "K.noofsides()\n",
    " \n",
    "R = Pentagon()\n",
    "R.noofsides()\n",
    " \n",
    "K = Hexagon()\n",
    "K.noofsides()"
   ]
  },
  {
   "cell_type": "code",
   "execution_count": 31,
   "id": "07faa1f8",
   "metadata": {},
   "outputs": [
    {
     "name": "stdout",
     "output_type": "stream",
     "text": [
      "Parent 1 method\n",
      "Parent 2 method\n",
      "child 2 method\n"
     ]
    }
   ],
   "source": [
    "#Multiple Inheritance\n",
    "'''\n",
    "The concept of inheriting the properties from multiple classes into a single class at a time, \n",
    "is known as multiple inheritance'''\n",
    "\n",
    "class P1:\n",
    "    def m1(self):\n",
    "        print(\"Parent 1 method\")\n",
    "class P2:\n",
    "    def m2(self):\n",
    "        print(\"Parent 2 method\")\n",
    "class C(P1,P2):\n",
    "    def m3(self):\n",
    "        print(\"child 2 method\")\n",
    "\n",
    "c=C()\n",
    "c.m1()\n",
    "c.m2()\n",
    "c.m3()"
   ]
  },
  {
   "cell_type": "code",
   "execution_count": 32,
   "id": "aa6f04d6",
   "metadata": {},
   "outputs": [
    {
     "name": "stdout",
     "output_type": "stream",
     "text": [
      "I am learning python\n",
      "Hello ML lerning this course\n",
      "Hello Statistics lerning this course\n"
     ]
    }
   ],
   "source": [
    "#Decorator\n",
    "'''\n",
    "Decorator is a function which  can take a function as argument and extend its functionality and returns modified\n",
    "function with extended functionality'''\n",
    "\n",
    "def decor(func):\n",
    "    def inner(name):\n",
    "        if name==\"python\":\n",
    "            print(\"I am learning python\")\n",
    "        else:\n",
    "            func(name)\n",
    "    return inner\n",
    "@decor\n",
    "def career(name):\n",
    "    print(\"Hello\", name,\"lerning this course\")\n",
    "    \n",
    "career(\"python\")\n",
    "career(\"ML\")\n",
    "career(\"Statistics\")"
   ]
  }
 ],
 "metadata": {
  "kernelspec": {
   "display_name": "Python 3 (ipykernel)",
   "language": "python",
   "name": "python3"
  },
  "language_info": {
   "codemirror_mode": {
    "name": "ipython",
    "version": 3
   },
   "file_extension": ".py",
   "mimetype": "text/x-python",
   "name": "python",
   "nbconvert_exporter": "python",
   "pygments_lexer": "ipython3",
   "version": "3.9.12"
  }
 },
 "nbformat": 4,
 "nbformat_minor": 5
}
